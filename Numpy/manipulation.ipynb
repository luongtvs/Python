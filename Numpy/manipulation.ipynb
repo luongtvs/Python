{
  "nbformat": 4,
  "nbformat_minor": 0,
  "metadata": {
    "colab": {
      "provenance": [],
      "gpuType": "T4",
      "authorship_tag": "ABX9TyNPP62Gx6kT3cG4/SKUkF9Q",
      "include_colab_link": true
    },
    "kernelspec": {
      "name": "python3",
      "display_name": "Python 3"
    },
    "language_info": {
      "name": "python"
    },
    "accelerator": "GPU"
  },
  "cells": [
    {
      "cell_type": "markdown",
      "metadata": {
        "id": "view-in-github",
        "colab_type": "text"
      },
      "source": [
        "<a href=\"https://colab.research.google.com/github/luongtvs/Python/blob/main/Numpy/manipulation.ipynb\" target=\"_parent\"><img src=\"https://colab.research.google.com/assets/colab-badge.svg\" alt=\"Open In Colab\"/></a>"
      ]
    },
    {
      "cell_type": "markdown",
      "source": [
        "**Thay đổi - Manipulation**"
      ],
      "metadata": {
        "id": "CyaqiCb075YI"
      }
    },
    {
      "cell_type": "markdown",
      "source": [
        "**1. Thay đổi kích thước bảng**"
      ],
      "metadata": {
        "id": "WgM-k_6d79zX"
      }
    },
    {
      "cell_type": "markdown",
      "source": [
        "**a. Trả về kích cỡ mảng shape**"
      ],
      "metadata": {
        "id": "h_Ji56c-8JuW"
      }
    },
    {
      "cell_type": "code",
      "source": [
        "import numpy as np\n",
        "\n",
        "A = np.random.randint(10, size = (2, 4))\n",
        "print(A)\n",
        "print(A.shape)"
      ],
      "metadata": {
        "colab": {
          "base_uri": "https://localhost:8080/"
        },
        "id": "A-lCRZ7h8PWH",
        "outputId": "9ea45707-7db0-4c95-fdd0-bb898671d881"
      },
      "execution_count": 3,
      "outputs": [
        {
          "output_type": "stream",
          "name": "stdout",
          "text": [
            "[[3 7 5 0]\n",
            " [6 9 6 9]]\n",
            "(2, 4)\n"
          ]
        }
      ]
    },
    {
      "cell_type": "markdown",
      "source": [
        "**b. Thay đổi kích cỡ của mảng**\n",
        "- Trả về mảng mới 3 chiều (2, 2, 2) từ mảng 2 chiều (2, 4)"
      ],
      "metadata": {
        "id": "T9VTINyT85Gv"
      }
    },
    {
      "cell_type": "code",
      "source": [
        "A = np.random.randint(10, size = (2, 4))\n",
        "print(A)\n",
        "print(A.shape)\n",
        "# reshape\n",
        "print('-------reshape------')\n",
        "B = A.reshape(2, 2, 2)\n",
        "print(B)\n",
        "print(B.shape)\n",
        "\n"
      ],
      "metadata": {
        "colab": {
          "base_uri": "https://localhost:8080/"
        },
        "id": "CmdBAz3L9Hre",
        "outputId": "114f9997-a533-4418-b8d8-66674ca66fda"
      },
      "execution_count": 5,
      "outputs": [
        {
          "output_type": "stream",
          "name": "stdout",
          "text": [
            "[[0 5 4 6]\n",
            " [5 9 7 5]]\n",
            "(2, 4)\n",
            "-------reshape------\n",
            "[[[0 5]\n",
            "  [4 6]]\n",
            "\n",
            " [[5 9]\n",
            "  [7 5]]]\n",
            "(2, 2, 2)\n"
          ]
        }
      ]
    },
    {
      "cell_type": "markdown",
      "source": [
        "**2. flatten()**\n",
        "- Trả về mảng được dưỡi thành 1 chiều"
      ],
      "metadata": {
        "id": "j6oUCElh-DvW"
      }
    },
    {
      "cell_type": "code",
      "source": [
        "import numpy as np\n",
        "\n",
        "A = np.random.randint(10, size = (3, 3))\n",
        "print(A)\n",
        "# platten\n",
        "print('-------platen--------')\n",
        "B = A.flatten()\n",
        "print(B)\n"
      ],
      "metadata": {
        "colab": {
          "base_uri": "https://localhost:8080/"
        },
        "id": "9rsg9qjv-QPv",
        "outputId": "f16570c5-1aec-4b1a-cb12-5909497fc136"
      },
      "execution_count": 7,
      "outputs": [
        {
          "output_type": "stream",
          "name": "stdout",
          "text": [
            "[[8 2 6]\n",
            " [0 2 9]\n",
            " [1 2 4]]\n",
            "-------platen--------\n",
            "[8 2 6 0 2 9 1 2 4]\n"
          ]
        }
      ]
    },
    {
      "cell_type": "markdown",
      "source": [
        "**3. expand_dims()**\n",
        "- Trả về mảng mới được thêm chiều"
      ],
      "metadata": {
        "id": "ZiDuCo5K_a6f"
      }
    },
    {
      "cell_type": "code",
      "source": [
        "import numpy as np\n",
        "\n",
        "A = np.random.randint(10, size = (2, 3))\n",
        "print(A)\n",
        "print(A.shape)\n",
        "# Mở rộng theo dòng axis=0\n",
        "print('---Mở rộng theo dòng axis=0---')\n",
        "\n",
        "B = np.expand_dims(A, axis = 0)\n",
        "print(B)\n",
        "print(B.shape)\n",
        "\n",
        "\n",
        "# Mở rộng theo cột axis=1\n",
        "print('---Mở rộng theo cột axis=1---')\n",
        "\n",
        "C = np.expand_dims(A, axis = 1)\n",
        "print(C)\n",
        "print(C.shape)"
      ],
      "metadata": {
        "colab": {
          "base_uri": "https://localhost:8080/"
        },
        "id": "CJTvA_Z7_e1p",
        "outputId": "3c4687a5-eebc-4632-9ab5-976c8b1a7240"
      },
      "execution_count": 12,
      "outputs": [
        {
          "output_type": "stream",
          "name": "stdout",
          "text": [
            "[[5 3 2]\n",
            " [8 0 0]]\n",
            "(2, 3)\n",
            "---Mở rộng theo dòng axis=0---\n",
            "[[[5 3 2]\n",
            "  [8 0 0]]]\n",
            "(1, 2, 3)\n",
            "---Mở rộng theo cột axis=1---\n",
            "[[[5 3 2]]\n",
            "\n",
            " [[8 0 0]]]\n",
            "(2, 1, 3)\n"
          ]
        }
      ]
    },
    {
      "cell_type": "markdown",
      "source": [
        "**4. squeeze()**\n",
        "- Trả về mảng mới được giảm chiều"
      ],
      "metadata": {
        "id": "G01qS3MHEdsk"
      }
    },
    {
      "cell_type": "code",
      "source": [
        "import numpy as np\n",
        "\n",
        "A = np.random.randint(10, size = (1,2,3))\n",
        "print(A)\n",
        "print(A.shape)\n",
        "# squeeze()\n",
        "print('------squeeze()----------')\n",
        "# Chỉ áp dụng với mảng có size (1, m, n)\n",
        "\n",
        "B = np.squeeze(A, axis = 0)\n",
        "print(B)\n",
        "print(B.shape)\n",
        "\n"
      ],
      "metadata": {
        "colab": {
          "base_uri": "https://localhost:8080/"
        },
        "id": "pfH4mnIAEpjU",
        "outputId": "c3b69184-e387-4315-fe29-133141ceb0b2"
      },
      "execution_count": 21,
      "outputs": [
        {
          "output_type": "stream",
          "name": "stdout",
          "text": [
            "[[[6 4 7]\n",
            "  [7 1 2]]]\n",
            "(1, 2, 3)\n",
            "------squeeze()----------\n",
            "[[6 4 7]\n",
            " [7 1 2]]\n",
            "(2, 3)\n"
          ]
        }
      ]
    },
    {
      "cell_type": "markdown",
      "source": [
        "**5. Chuyển vị**\n",
        "- Ma trận chuyển vị là ma chận chuyển hàng thành cột và cột thành hàng"
      ],
      "metadata": {
        "id": "BeJiqe1xF5Kl"
      }
    },
    {
      "cell_type": "code",
      "source": [
        "import numpy as np\n",
        "\n",
        "A = np.random.randint(10, size = (2, 4))\n",
        "print(A)\n",
        "print(A.shape)\n",
        "\n",
        "print('-----------Chuyển vị--------')\n",
        "\n",
        "B = A.T\n",
        "print(B)\n",
        "print(B.shape)"
      ],
      "metadata": {
        "colab": {
          "base_uri": "https://localhost:8080/"
        },
        "id": "rGHvdKTCGNzL",
        "outputId": "ba644351-2e2b-400e-d7da-938c074780b5"
      },
      "execution_count": 22,
      "outputs": [
        {
          "output_type": "stream",
          "name": "stdout",
          "text": [
            "[[9 4 7 7]\n",
            " [1 5 0 2]]\n",
            "(2, 4)\n",
            "-----------Chuyển vị--------\n",
            "[[9 1]\n",
            " [4 5]\n",
            " [7 0]\n",
            " [7 2]]\n",
            "(4, 2)\n"
          ]
        }
      ]
    }
  ]
}