{
  "nbformat": 4,
  "nbformat_minor": 0,
  "metadata": {
    "colab": {
      "provenance": [],
      "gpuType": "T4",
      "authorship_tag": "ABX9TyN+zF/I9n3MFCNcuN/OEJJb",
      "include_colab_link": true
    },
    "kernelspec": {
      "name": "python3",
      "display_name": "Python 3"
    },
    "language_info": {
      "name": "python"
    },
    "accelerator": "GPU"
  },
  "cells": [
    {
      "cell_type": "markdown",
      "metadata": {
        "id": "view-in-github",
        "colab_type": "text"
      },
      "source": [
        "<a href=\"https://colab.research.google.com/github/luongtvs/Python/blob/main/Machine_Learning/Machine_Learning_unit01.ipynb\" target=\"_parent\"><img src=\"https://colab.research.google.com/assets/colab-badge.svg\" alt=\"Open In Colab\"/></a>"
      ]
    },
    {
      "cell_type": "markdown",
      "source": [
        "**Chương 1. Machine Learning**"
      ],
      "metadata": {
        "id": "cuwhTCNv26sh"
      }
    },
    {
      "cell_type": "markdown",
      "source": [
        "Machine Learning là một chương trình phân tích dữ liệu và học cách dự đoán kết quả"
      ],
      "metadata": {
        "id": "NFH-GwY23ObZ"
      }
    },
    {
      "cell_type": "markdown",
      "source": [
        "**1. Tổng quan**\n",
        "\n",
        "Loại dữ liệu:\n",
        "\n",
        "Để phân tích dữ liệu, điều quan trọng là phải biết chúng ta đang xử lý loại dữ liệu nào.\n",
        "- **Numerical**\n",
        "- **Categorical**\n",
        "- **Ordinal**\n",
        "\n",
        "Trong đó:\n",
        "\n",
        "**a**. Dữ liệu **Numerical** là các số và có thể được chia thành hai loại số:\n",
        "\n",
        "+ Dữ liệu rời rạc:\n",
        "   Số được giới hạn ở số nguyên. Ví dụ: Số lượng xe ô tô đi qua.\n",
        "+ Dữ liệu liên tục:\n",
        "  các số có giá trị vô hạn. Ví dụ: Giá của một mặt hàng hoặc kích thước của một mặt hàng\n",
        "\n",
        "**b**. **Categorical** là các giá trị không thể đo lường được với nhau. Ví dụ: một giá trị màu hoặc bất kỳ giá trị có/không nào.\n",
        "\n",
        "**c**. **Ordinal** giống như dữ liệu phân loại, nhưng có thể được đo lường với nhau. Ví dụ: điểm trường nơi A tốt hơn B, v.v.\n",
        "\n",
        "Khi biết loại dữ liệu của nguồn dữ liệu, bạn sẽ có thể biết nên sử dụng kỹ thuật nào khi phân tích chúng."
      ],
      "metadata": {
        "id": "77vqrqNo3TJn"
      }
    },
    {
      "cell_type": "markdown",
      "source": [
        "**2. Mean, Median, and Mode**\n",
        "\n",
        "Trong Machine Learning (và trong toán học), thường có ba giá trị mà chúng ta quan tâm:\n",
        "\n",
        "**- Mean** - Giá trị trung bình\n",
        "\n",
        "**- Median** (Trung vị)- Là số nằm giữa trong một tập dữ liệu có các số được sắp xếp\n",
        "\n",
        "**- Mode** - Giá trị phổ biến"
      ],
      "metadata": {
        "id": "4_gHysgY4LRo"
      }
    },
    {
      "cell_type": "markdown",
      "source": [
        "**a. Mean:**\n",
        "\n",
        "Sử dụng phương pháp NumPy **mean()**để tìm giá trị trung bình:"
      ],
      "metadata": {
        "id": "6sCtmQju5lrf"
      }
    },
    {
      "cell_type": "code",
      "source": [
        "import numpy as np;\n",
        "\n",
        "A = np.array([1,2,3,4,5,6,7,8,9])\n",
        "A_mean = np.mean(A)\n",
        "print(A_mean)\n"
      ],
      "metadata": {
        "colab": {
          "base_uri": "https://localhost:8080/"
        },
        "id": "8rA8fJaB5ppR",
        "outputId": "d4d00756-4301-4853-d498-c0a6105ec7b2"
      },
      "execution_count": null,
      "outputs": [
        {
          "output_type": "stream",
          "name": "stdout",
          "text": [
            "5.0\n"
          ]
        }
      ]
    },
    {
      "cell_type": "markdown",
      "source": [
        "**b. Median**\n",
        "\n",
        "Sử dụng NumPy median() để tìm giá trị chính giữa"
      ],
      "metadata": {
        "id": "zpM8S_gS6cEo"
      }
    },
    {
      "cell_type": "code",
      "source": [
        "\n",
        "B = np.array([11,5,1,6,19,10,9,12,44,5,7])\n",
        "B_median = np.median(B)\n",
        "print(B_median)"
      ],
      "metadata": {
        "colab": {
          "base_uri": "https://localhost:8080/"
        },
        "id": "ftWQZnAK60rv",
        "outputId": "2269f14f-84b8-46fc-da32-982e2a209f68"
      },
      "execution_count": null,
      "outputs": [
        {
          "output_type": "stream",
          "name": "stdout",
          "text": [
            "9.0\n"
          ]
        }
      ]
    },
    {
      "cell_type": "markdown",
      "source": [
        "Nếu có 2 số ở giữa hãy chia tổng của 2 số đó cho 2"
      ],
      "metadata": {
        "id": "sLnGsPrC8vye"
      }
    },
    {
      "cell_type": "code",
      "source": [
        "B = np.array([11,5,1,6,19,10,9,12,44,5])\n",
        "B_median = np.median(B)\n",
        "print(B_median)"
      ],
      "metadata": {
        "colab": {
          "base_uri": "https://localhost:8080/"
        },
        "id": "Ayo_jmDM80_7",
        "outputId": "278d94a6-44a9-42b0-f6f6-3fdbcfbf722f"
      },
      "execution_count": null,
      "outputs": [
        {
          "output_type": "stream",
          "name": "stdout",
          "text": [
            "9.5\n"
          ]
        }
      ]
    },
    {
      "cell_type": "markdown",
      "source": [
        "**c. Mode**\n",
        "\n",
        "Sử dụng phương pháp SciPy mode()để tìm số xuất hiện nhiều nhất:"
      ],
      "metadata": {
        "id": "C0Ho51W79K3e"
      }
    },
    {
      "cell_type": "code",
      "source": [
        "from scipy import stats\n",
        "C = np.array([99,86,87,88,111,86,103,87,94,78,77,85,86])\n",
        "\n",
        "C_model = stats.mode(C)\n",
        "\n",
        "print(C_model)"
      ],
      "metadata": {
        "colab": {
          "base_uri": "https://localhost:8080/"
        },
        "id": "FwCjBk4w9S2H",
        "outputId": "c9792809-2089-4d46-ad7c-18e8c1113e5c"
      },
      "execution_count": null,
      "outputs": [
        {
          "output_type": "stream",
          "name": "stdout",
          "text": [
            "ModeResult(mode=array([86]), count=array([3]))\n"
          ]
        },
        {
          "output_type": "stream",
          "name": "stderr",
          "text": [
            "<ipython-input-18-bdb36a187108>:4: FutureWarning: Unlike other reduction functions (e.g. `skew`, `kurtosis`), the default behavior of `mode` typically preserves the axis it acts along. In SciPy 1.11.0, this behavior will change: the default value of `keepdims` will become False, the `axis` over which the statistic is taken will be eliminated, and the value None will no longer be accepted. Set `keepdims` to True or False to avoid this warning.\n",
            "  C_model = stats.mode(C)\n"
          ]
        }
      ]
    },
    {
      "cell_type": "markdown",
      "source": [
        "**3. Standard Deviation** (Độ lệch chuẩn)\n",
        "\n",
        "Độ lệch chuẩn là một con số mô tả mức độ trải rộng của các giá trị.\n",
        "\n",
        "Độ lệch chuẩn thấp có nghĩa là hầu hết các số gần với giá trị trung bình (trung bình).\n",
        "\n",
        "Độ lệch chuẩn cao có nghĩa là các giá trị được trải rộng trên phạm vi rộng hơn."
      ],
      "metadata": {
        "id": "mm0ZVgO3-bkG"
      }
    },
    {
      "cell_type": "markdown",
      "source": [
        "Sử dụng phương pháp NumPy **std()** để tìm độ lệch chuẩn:"
      ],
      "metadata": {
        "id": "pjKpqtz7-kDf"
      }
    },
    {
      "cell_type": "code",
      "source": [
        "speed = np.array([32,111,138,28,59,77,97])\n",
        "StDev = np.std(speed)\n",
        "print(StDev)\n",
        "# print(np.mean(speed))"
      ],
      "metadata": {
        "colab": {
          "base_uri": "https://localhost:8080/"
        },
        "id": "fA5jFOhL-vxx",
        "outputId": "41db6fda-2830-4636-cf19-84dc00509e10"
      },
      "execution_count": null,
      "outputs": [
        {
          "output_type": "stream",
          "name": "stdout",
          "text": [
            "37.84501153334721\n"
          ]
        }
      ]
    },
    {
      "cell_type": "markdown",
      "source": [
        "Có nghĩa là hầu hết các giá trị đều nằm trong phạm vi 37.84 so với giá trị trung bình là 77.42"
      ],
      "metadata": {
        "id": "XyvYldyR_K-e"
      }
    },
    {
      "cell_type": "markdown",
      "source": [
        "**4. Variance** (Phương sai)\n",
        "\n",
        "Phương sai là một số khác cho biết mức độ trải rộng của các giá trị.\n",
        "\n",
        "Trên thực tế, nếu bạn lấy căn bậc hai của phương sai, bạn sẽ có được độ lệch chuẩn!\n",
        "\n",
        "Hoặc ngược lại, nếu bạn nhân độ lệch chuẩn với chính nó, bạn sẽ có phương sai!"
      ],
      "metadata": {
        "id": "QhVxJvajAJMA"
      }
    },
    {
      "cell_type": "markdown",
      "source": [
        "Để tính phương sai ta phải làm như sau:\n",
        "\n",
        "**Bước 1**: tính giá trị trung bình\n",
        "\n",
        "**Bước 2**: tính độ lệch của các giá trị trung bình\n",
        "\n",
        "**Bước 3**: tính giá trị bình phương của mỗi độ lệch\n",
        "\n",
        "**Bước 4**: tính trung bình cộng của các giá trị ở bước 3 ta được phương sai"
      ],
      "metadata": {
        "id": "H_E-YowdAUIm"
      }
    },
    {
      "cell_type": "markdown",
      "source": [
        "Trong Python, ta sử dụng phương pháp NumPy var()để tìm phương sai:"
      ],
      "metadata": {
        "id": "6zZZ_VboBFEO"
      }
    },
    {
      "cell_type": "code",
      "source": [
        "speed = np.array([32,111,138,28,59,77,97])\n",
        "speed_var = np.var(speed)\n",
        "print(speed_var)"
      ],
      "metadata": {
        "colab": {
          "base_uri": "https://localhost:8080/"
        },
        "id": "KB8JAwIRBSMo",
        "outputId": "3d06c551-bab9-44ba-afd9-107995095fc8"
      },
      "execution_count": null,
      "outputs": [
        {
          "output_type": "stream",
          "name": "stdout",
          "text": [
            "1432.2448979591834\n"
          ]
        }
      ]
    },
    {
      "cell_type": "markdown",
      "source": [
        "ký hiệu\n",
        "Độ lệch chuẩn thường được biểu thị bằng ký hiệu Sigma: **σ**\n",
        "\n",
        "Phương sai thường được biểu thị bằng ký hiệu Bình phương Sigma: **σ**2"
      ],
      "metadata": {
        "id": "T1n2bWMDB5HU"
      }
    },
    {
      "cell_type": "markdown",
      "source": [
        "**5. Percentiles (Phần trăm)**\n",
        "\n",
        "Phần trăm được sử dụng trong thống kê để cung cấp cho bạn một số mô tả giá trị mà một phần trăm giá trị nhất định thấp hơn.\n",
        "\n",
        "Ví dụ: Giả sử chúng ta có một mảng độ tuổi của tất cả những người sống trên một con phố."
      ],
      "metadata": {
        "id": "iQ2gwWSbEaOu"
      }
    },
    {
      "cell_type": "code",
      "source": [
        "ages = [5,31,43,48,50,41,7,11,15,39,80,82,32,2,8,6,25,36,27,61,31]\n",
        "# Đ\n",
        "percen = np.percentile(ages, 75)\n",
        "print(percen)\n",
        "\n"
      ],
      "metadata": {
        "colab": {
          "base_uri": "https://localhost:8080/"
        },
        "id": "loXzHPxaM6fy",
        "outputId": "324c9bdb-8665-4de9-f0d8-0b9a080018ea"
      },
      "execution_count": null,
      "outputs": [
        {
          "output_type": "stream",
          "name": "stdout",
          "text": [
            "43.0\n"
          ]
        }
      ]
    },
    {
      "cell_type": "markdown",
      "source": [
        "Kết quả là 75% số người có độ tuổi từ 43 tuổi trở xuống"
      ],
      "metadata": {
        "id": "OOMCF6yWOB06"
      }
    },
    {
      "cell_type": "markdown",
      "source": [
        "Tóm lại : ta sử dụng phương pháp NumPy **percentile()**để tìm phần trăm:\n",
        "\n",
        "Ví dụ: Tìm 90% dân số trẻ hơn là bao nhiêu"
      ],
      "metadata": {
        "id": "og56suiIOIJp"
      }
    },
    {
      "cell_type": "code",
      "source": [
        "ages = [5,31,43,48,50,41,7,11,15,39,80,82,32,2,8,6,25,36,27,61,31]\n",
        "\n",
        "x = np.percentile(ages, 90)\n",
        "\n",
        "print(x)"
      ],
      "metadata": {
        "colab": {
          "base_uri": "https://localhost:8080/"
        },
        "id": "R_qJlCZUOWoC",
        "outputId": "3a3072c4-667c-4d6c-9771-afdc3862c51f"
      },
      "execution_count": null,
      "outputs": [
        {
          "output_type": "stream",
          "name": "stdout",
          "text": [
            "61.0\n"
          ]
        }
      ]
    },
    {
      "cell_type": "markdown",
      "source": [
        "Kết quả là 61, có nghĩa là 90% dân số trẻ hơn 61 tuổi"
      ],
      "metadata": {
        "id": "LyJOYSKMOkW6"
      }
    },
    {
      "cell_type": "markdown",
      "source": [
        "**6. Data Distribution** (Phân phối dữ liệu)\n",
        "\n",
        "Để tạo các tập dữ liệu lớn để thử nghiệm, chúng tôi sử dụng mô-đun Python NumPy: **numpy.random.uniform()**, đi kèm với một số phương thức để tạo các tập dữ liệu ngẫu nhiên, ở mọi kích thước.\n",
        "\n",
        "Ví dụ: để tạo một mảng chứa 250 số float ngẫu nhiên trong khoảng từ 0 đến 5:"
      ],
      "metadata": {
        "id": "sZYgMR4lOvxL"
      }
    },
    {
      "cell_type": "code",
      "source": [
        "data_arr = np.random.uniform(0.0, 5.0, 250)\n",
        "print(data_arr)"
      ],
      "metadata": {
        "colab": {
          "base_uri": "https://localhost:8080/"
        },
        "id": "G74tTYsbRPGA",
        "outputId": "b3c417c9-a08e-4f8e-ae21-74cb50913fa3"
      },
      "execution_count": null,
      "outputs": [
        {
          "output_type": "stream",
          "name": "stdout",
          "text": [
            "[3.09127484 0.80457796 1.87321137 4.81010997 1.9076615  1.96805738\n",
            " 3.0125899  2.08086644 1.67040883 0.64850975 2.26359431 3.33776813\n",
            " 2.96029082 2.25834687 3.94068812 4.47308781 1.35086805 4.3617463\n",
            " 4.8726551  4.80917336 2.80188939 4.73690954 2.95664111 1.18557705\n",
            " 0.11646971 1.50024339 1.76923791 1.78900845 2.98708969 4.73830213\n",
            " 2.50253539 2.20853036 4.52348451 0.79687549 3.43799356 1.84874444\n",
            " 3.84046088 0.98167253 4.78082613 0.74177093 0.8805721  0.61721389\n",
            " 2.42062628 4.88461932 2.38317366 1.97917696 4.69421255 0.14964093\n",
            " 3.82886149 3.74843519 0.31165631 1.39658895 3.19598473 1.79417331\n",
            " 1.12686882 4.41513531 1.46721481 4.68212656 0.39785148 0.20975282\n",
            " 2.17975478 1.21586178 3.12197564 4.35241753 1.98864533 4.80135436\n",
            " 1.64898162 3.65705374 1.97145254 4.14968935 2.74356616 0.64397671\n",
            " 4.41189011 0.75435957 4.40895634 1.21933419 3.62491047 3.64748743\n",
            " 1.02379517 4.53577791 4.96006128 3.22161079 0.54581639 1.99522793\n",
            " 3.8888759  3.76252509 2.67293758 2.73872271 0.24315035 2.69344073\n",
            " 4.31952217 1.44937798 1.620259   3.80005716 3.85153095 4.78840896\n",
            " 0.7481297  0.65128948 0.45561984 0.2021485  3.68401891 3.92694156\n",
            " 0.07769236 4.51198494 3.47384809 4.68395687 3.84021543 0.10444841\n",
            " 2.46821374 0.91382817 2.03701879 4.5724185  2.69038973 1.32805192\n",
            " 2.61079038 0.94048096 4.55092443 0.69774047 0.91363708 1.26418922\n",
            " 1.58717804 2.5024422  0.80108059 3.48876544 3.92870836 2.38862852\n",
            " 3.09259376 0.54503128 1.70961418 4.61378267 1.04034721 4.35798588\n",
            " 4.05450981 3.74633483 3.18104216 1.96962808 2.88435451 1.09134877\n",
            " 1.57014956 2.91030392 4.54565018 2.01025485 3.41362491 1.5500896\n",
            " 0.53217282 0.18796116 3.48151743 0.56692335 0.93177559 4.05601736\n",
            " 1.42474591 0.67725746 3.44233533 1.27824571 4.38833793 0.30048895\n",
            " 2.43044652 3.62793126 4.32714716 2.94707423 2.16359306 1.11203783\n",
            " 2.34497317 1.02245404 1.04381243 1.21425838 2.03021431 3.86739492\n",
            " 4.23968997 4.87593727 1.28798826 3.9031975  0.41130673 3.63330965\n",
            " 2.89343876 4.13119938 3.63285063 4.4260351  0.18364961 1.7362499\n",
            " 2.39089549 0.58872358 2.964042   4.92049572 3.10502157 3.88802281\n",
            " 1.70644013 0.89991334 2.24185721 2.37511577 4.88618229 0.90111414\n",
            " 2.97600589 2.4665092  1.70342208 4.62508822 1.32828063 4.73170876\n",
            " 0.72892229 4.40389555 3.49571778 2.67849302 0.39536077 0.36728162\n",
            " 4.56059592 4.44641144 1.69199702 3.80058801 2.89836808 0.76309661\n",
            " 3.03862667 3.87939958 4.17825418 2.50838657 3.59713766 4.20557479\n",
            " 0.07095099 0.4532647  3.45324448 0.5373783  0.91523713 4.15982525\n",
            " 3.26369399 4.26141442 4.13463112 1.88112741 0.50298247 2.54153449\n",
            " 4.95580501 4.55961217 1.15638345 2.80519141 4.85247562 2.4810783\n",
            " 1.54388765 0.92777125 1.87253529 1.1980285  4.04890721 2.87561181\n",
            " 0.36146163 4.06177028 4.93218643 3.6714118  4.11542043 1.11032368\n",
            " 2.25898694 0.72866839 4.36617198 4.99808714]\n"
          ]
        }
      ]
    },
    {
      "cell_type": "markdown",
      "source": [
        "**Biểu đồ:**\n",
        "\n",
        "Để trực quan hóa tập dữ liệu, chúng ta có thể vẽ biểu đồ với dữ liệu chúng ta đã thu thập.\n",
        "\n",
        "Chúng tôi sẽ sử dụng mô-đun Python Matplotlib để vẽ biểu đồ."
      ],
      "metadata": {
        "id": "QsnfYL7fRv5x"
      }
    },
    {
      "cell_type": "code",
      "source": [
        "import matplotlib.pyplot as plt\n",
        "\n",
        "X = np.random.uniform(0.0, 5.0, 250)\n",
        "plt.hist(X, 5)\n",
        "plt.show()"
      ],
      "metadata": {
        "colab": {
          "base_uri": "https://localhost:8080/",
          "height": 430
        },
        "id": "IbEVrXLKR7Kq",
        "outputId": "bb98d8cb-c545-4c90-8c6a-cd9ab0bab3a8"
      },
      "execution_count": null,
      "outputs": [
        {
          "output_type": "display_data",
          "data": {
            "text/plain": [
              "<Figure size 640x480 with 1 Axes>"
            ],
            "image/png": "[encoded data removed]"
          },
          "metadata": {}
        }
      ]
    },
    {
      "cell_type": "markdown",
      "source": [
        "Biểu đồ giải thích\n",
        "Chúng tôi sử dụng mảng từ ví dụ trên để vẽ biểu đồ có 5 thanh.\n",
        "\n",
        "Thanh đầu tiên biểu thị có bao nhiêu giá trị trong mảng nằm trong khoảng từ 0 đến 1.\n",
        "\n",
        "Thanh thứ hai biểu thị có bao nhiêu giá trị nằm trong khoảng từ 1 đến 2.\n",
        "\n",
        "Vân vân.\n",
        "\n",
        "Điều này mang lại cho chúng ta kết quả này:\n",
        "\n",
        "Y1 giá trị nằm trong khoảng từ 0 đến 1\n",
        "Y2 giá trị nằm trong khoảng từ 1 đến 2\n",
        "Y3 giá trị nằm trong khoảng từ 2 đến 3\n",
        "Y4 giá trị nằm trong khoảng từ 3 đến 4\n",
        "Y5 giá trị nằm trong khoảng từ 4 đến 5"
      ],
      "metadata": {
        "id": "miFX30q2SmJI"
      }
    },
    {
      "cell_type": "markdown",
      "source": [
        "**7. Normal Data Distribution** (Phân phối dữ liệu bình thường)\n",
        "\n",
        "Trong phần 6 chúng ta đã học cách tạo một mảng hoàn toàn ngẫu nhiên, có kích thước cho trước và nằm giữa hai giá trị cho trước.\n",
        "\n",
        "Trong chương này chúng ta sẽ học cách tạo một mảng trong đó các giá trị được tập trung xung quanh một giá trị cho trước.\n",
        "\n",
        "Trong lý thuyết xác suất, loại phân phối dữ liệu này được gọi là phân phối dữ liệu bình thường hoặc phân phối dữ liệu Gaussian , theo tên nhà toán học Carl Friedrich Gauss, người đã đưa ra công thức phân phối dữ liệu này."
      ],
      "metadata": {
        "id": "qbXLr3C3TLA3"
      }
    },
    {
      "cell_type": "code",
      "source": [
        "import numpy\n",
        "import matplotlib.pyplot as plt\n",
        "\n",
        "x = numpy.random.normal(5.0, 1.0, 100000)\n",
        "\n",
        "plt.hist(x, 100)\n",
        "plt.show()"
      ],
      "metadata": {
        "colab": {
          "base_uri": "https://localhost:8080/",
          "height": 430
        },
        "id": "sL15eLFOTwhK",
        "outputId": "2056dda7-13ac-4c69-c05a-7bff8157cce4"
      },
      "execution_count": null,
      "outputs": [
        {
          "output_type": "display_data",
          "data": {
            "text/plain": [
              "<Figure size 640x480 with 1 Axes>"
            ],
            "image/png": "[encoded data removed]"
          },
          "metadata": {}
        }
      ]
    },
    {
      "cell_type": "markdown",
      "source": [
        "Lưu ý: Đồ thị phân phối chuẩn còn được gọi là đường cong hình chuông vì nó có dạng hình chuông đặc trưng."
      ],
      "metadata": {
        "id": "8TsH6EJcT5o5"
      }
    },
    {
      "cell_type": "markdown",
      "source": [
        "**giải thích**\n",
        "Chúng ta sử dụng mảng từ phương thức **numpy.random.normal()**, với 100000 giá trị, để vẽ biểu đồ có 100 thanh.\n",
        "\n",
        "Chúng ta chỉ định rằng giá trị trung bình là 5,0 và độ lệch chuẩn là 1,0.\n",
        "\n",
        "Có nghĩa là các giá trị nên tập trung vào khoảng 5,0 và hiếm khi xa hơn 1,0 so với giá trị trung bình.\n",
        "\n",
        "Và như bạn có thể thấy từ biểu đồ, hầu hết các giá trị nằm trong khoảng từ 4,0 đến 6,0, với đỉnh xấp xỉ 5,0."
      ],
      "metadata": {
        "id": "pOKUr_xyT8w4"
      }
    },
    {
      "cell_type": "markdown",
      "source": [
        "**8. Scatter Plot** (Phân tán)\n",
        "\n",
        "Biểu đồ phân tán là biểu đồ trong đó mỗi giá trị trong tập dữ liệu được biểu thị bằng một dấu chấm.\n",
        "\n",
        "Mô-đun Matplotlib có một phương thức để vẽ các biểu đồ phân tán là **scatter()**, nó cần hai mảng có cùng độ dài, một cho các giá trị của trục x và một cho các giá trị của trục y:"
      ],
      "metadata": {
        "id": "5QuqcfYGVOve"
      }
    },
    {
      "cell_type": "code",
      "source": [
        "import matplotlib.pyplot as plt\n",
        "X = [10,1,5,11,50,12, 75]\n",
        "Y = [87,12,42,16,8,88,97]\n",
        "plt.scatter(X, Y)\n",
        "plt.show()"
      ],
      "metadata": {
        "colab": {
          "base_uri": "https://localhost:8080/",
          "height": 430
        },
        "id": "H3HxFLNnVn2G",
        "outputId": "03804cd7-6e52-40eb-afb5-49a3fb78f292"
      },
      "execution_count": null,
      "outputs": [
        {
          "output_type": "display_data",
          "data": {
            "text/plain": [
              "<Figure size 640x480 with 1 Axes>"
            ],
            "image/png": "[encoded data removed]"
          },
          "metadata": {}
        }
      ]
    },
    {
      "cell_type": "markdown",
      "source": [
        "**Phân phối dữ liệu ngẫu nhiên:**\n",
        "\n",
        "Sửa dụng hàm numpy.random.normal() ở bài phần trước"
      ],
      "metadata": {
        "id": "whc42KdLXk8O"
      }
    },
    {
      "cell_type": "code",
      "source": [
        "# Tạo 1000 giá trị X ngẫu nhiên với giá trị trung bình 10, độ lệch chuẩn là 2\n",
        "X = np.random.normal(10.0, 2.0, 1000)\n",
        "# Tạo 1000 giá trị Y ngẫu nhiên với giá trị trung bình 5, độ lệch chuẩn là 1\n",
        "Y = np.random.normal(5.0, 1.0, 1000)\n",
        "plt.scatter(X, Y)\n",
        "plt.show()"
      ],
      "metadata": {
        "colab": {
          "base_uri": "https://localhost:8080/",
          "height": 430
        },
        "id": "pHSn9Tv1Xys7",
        "outputId": "0ffcc162-3562-4443-e174-1b8c72b60af5"
      },
      "execution_count": null,
      "outputs": [
        {
          "output_type": "display_data",
          "data": {
            "text/plain": [
              "<Figure size 640x480 with 1 Axes>"
            ],
            "image/png": "[encoded data removed]"
          },
          "metadata": {}
        }
      ]
    },
    {
      "cell_type": "markdown",
      "source": [
        "**Giải thích dữ liệu phân tán**\n",
        "\n",
        "Chúng ta có thể thấy rằng các dấu chấm tập trung xung quanh giá trị 5 trên trục x và 10 trên trục y.\n",
        "\n",
        "Chúng ta cũng có thể thấy rằng mức chênh lệch trên trục y rộng hơn trên trục x."
      ],
      "metadata": {
        "id": "L_vNt8B1aLMT"
      }
    },
    {
      "cell_type": "markdown",
      "source": [
        "**9. Linear Regression** (Hồi quy tuyến tính)\n",
        "\n",
        "Thuật ngữ hồi quy được sử dụng khi bạn cố gắng tìm mối quan hệ giữa các biến.\n",
        "Trong Machine Learning và trong mô hình thống kê, mối quan hệ đó được sử dụng để dự đoán kết quả của các sự kiện trong tương lai.\n"
      ],
      "metadata": {
        "id": "8SFXJ5MKbl4o"
      }
    },
    {
      "cell_type": "markdown",
      "source": [
        "Hồi quy tuyến tính sử dụng mối quan hệ giữa các điểm dữ liệu để vẽ một đường thẳng qua tất cả chúng.\n",
        "\n",
        "Dòng này có thể được sử dụng để dự đoán các giá trị trong tương lai. Trong Machine Learning, dự đoán tương lai là rất quan trọng."
      ],
      "metadata": {
        "id": "Lg7lCWBZb6Sd"
      }
    },
    {
      "cell_type": "markdown",
      "source": [
        "**a. Cách vẽ biểu đồ Linear Regression**\n",
        "\n",
        "Python có các phương pháp để tìm mối quan hệ giữa các điểm dữ liệu và để vẽ một đường hồi quy tuyến tính. Chúng tôi sẽ chỉ cho bạn cách sử dụng các phương pháp này thay vì sử dụng công thức toán học.\n",
        "\n",
        "Trong ví dụ bên dưới, trục x biểu thị năm và trục y biểu thị tốc độ. Chúng tôi đã đăng ký năm và tốc độ của 13 ô tô khi chúng đi qua một trạm thu phí. Hãy để chúng tôi xem liệu dữ liệu chúng tôi đã thu thập có thể được sử dụng trong hồi quy tuyến tính hay không:"
      ],
      "metadata": {
        "id": "uNPWIeGlb850"
      }
    },
    {
      "cell_type": "markdown",
      "source": [
        "Trước tiên hãy xem biểu đồ phân tán:"
      ],
      "metadata": {
        "id": "RlmWbMZKcaEF"
      }
    },
    {
      "cell_type": "code",
      "source": [
        "import matplotlib.pyplot as plt\n",
        "\n",
        "x = [5,7,8,7,2,17,2,9,4,11,12,9,6]\n",
        "y = [99,86,87,88,111,86,103,87,94,78,77,85,86]\n",
        "\n",
        "plt.scatter(x, y)\n",
        "plt.show()"
      ],
      "metadata": {
        "colab": {
          "base_uri": "https://localhost:8080/",
          "height": 430
        },
        "id": "xly3Dkc6cXqR",
        "outputId": "2939578a-6df7-4192-a5df-177f4ea87eb5"
      },
      "execution_count": null,
      "outputs": [
        {
          "output_type": "display_data",
          "data": {
            "text/plain": [
              "<Figure size 640x480 with 1 Axes>"
            ],
            "image/png": "[encoded data removed]"
          },
          "metadata": {}
        }
      ]
    },
    {
      "cell_type": "markdown",
      "source": [
        "import gói scipy.stats để vẽ đường hồi quy tuyến tính"
      ],
      "metadata": {
        "id": "VNiNRGtyceHh"
      }
    },
    {
      "cell_type": "code",
      "source": [
        "import matplotlib.pyplot as plt\n",
        "from scipy import stats\n",
        "\n",
        "x = [5,7,8,7,2,17,2,9,4,11,12,9,6]\n",
        "y = [99,86,87,88,111,86,103,87,94,78,77,85,86]\n",
        "\n",
        "slope, intercept, r, p, std_err = stats.linregress(x, y)\n",
        "\n",
        "def myfunct(x):\n",
        "    return slope*x + intercept\n",
        "\n",
        "mymodel = list(map(myfunct, x))\n",
        "\n",
        "plt.scatter(x, y)\n",
        "plt.plot(x, mymodel)\n",
        "plt.show()"
      ],
      "metadata": {
        "colab": {
          "base_uri": "https://localhost:8080/",
          "height": 430
        },
        "id": "CO8zjPrN4fhV",
        "outputId": "317e03fd-5a08-4a6d-9036-2d0ad3cfc5e3"
      },
      "execution_count": null,
      "outputs": [
        {
          "output_type": "display_data",
          "data": {
            "text/plain": [
              "<Figure size 640x480 with 1 Axes>"
            ],
            "image/png": "[encoded data removed]"
          },
          "metadata": {}
        }
      ]
    },
    {
      "cell_type": "markdown",
      "source": [
        "**Giải thích**\n",
        "\n",
        "Nhập các mô-đun bạn cần."
      ],
      "metadata": {
        "id": "PrTEeu7y5yMq"
      }
    },
    {
      "cell_type": "code",
      "source": [
        "import matplotlib.pyplot as plt\n",
        "from scipy import stats"
      ],
      "metadata": {
        "id": "X44lOA7-57Vk"
      },
      "execution_count": null,
      "outputs": []
    },
    {
      "cell_type": "markdown",
      "source": [
        "Tạo các mảng đại diện cho các giá trị của trục x và y:"
      ],
      "metadata": {
        "id": "EjD__ygy59Xe"
      }
    },
    {
      "cell_type": "code",
      "source": [
        "x = [5,7,8,7,2,17,2,9,4,11,12,9,6]\n",
        "y = [99,86,87,88,111,86,103,87,94,78,77,85,86]"
      ],
      "metadata": {
        "id": "VWK1TsO46AGU"
      },
      "execution_count": null,
      "outputs": []
    },
    {
      "cell_type": "code",
      "source": [],
      "metadata": {
        "id": "FzZfIhbm6Bob"
      },
      "execution_count": null,
      "outputs": []
    },
    {
      "cell_type": "markdown",
      "source": [
        "Thực thi một phương thức trả về một số giá trị chính quan trọng của Hồi quy tuyến tính:"
      ],
      "metadata": {
        "id": "3M_Grd9w6B4M"
      }
    },
    {
      "cell_type": "code",
      "source": [
        "slope, intercept, r_value, p_value, std_err = stats.linregress(x, y)"
      ],
      "metadata": {
        "id": "ZAZNb84m6Hw8"
      },
      "execution_count": null,
      "outputs": []
    },
    {
      "cell_type": "markdown",
      "source": [
        "**stats.linregress** là một hàm từ gói **scipy.stats** (từ gói Scipy) được sử dụng để thực hiện phân tích hồi quy tuyến tính. Hồi quy tuyến tính là một phương pháp thống kê để dự đoán một biến phụ thuộc dựa trên một hoặc nhiều biến độc lập. Hàm **stats.linregress** giúp tính toán các tham số quan trọng trong một mô hình hồi quy tuyến tính như hệ số góc (**slope**), hệ số góc giao (**intercept**), hệ số tương quan (**correlation coefficient**), giá trị **p-value** và các thông số khác"
      ],
      "metadata": {
        "id": "REi7oJAB6Ihd"
      }
    },
    {
      "cell_type": "markdown",
      "source": [
        "Hàm trên bao gồm:\n",
        "\n",
        "**x**: Là mảng chứa các giá trị của biến độc lập.\n",
        "\n",
        "**y**: Là mảng chứa các giá trị của biến phụ thuộc.\n",
        "Các giá trị trả về:\n",
        "\n",
        "\n",
        "**slope**: Hệ số góc của đường hồi quy.\n",
        "\n",
        "**intercept**: Hệ số giao của đường hồi quy với trục y.\n",
        "\n",
        "**r**: Hệ số tương quan (correlation coefficient) giữa x và y.\n",
        "\n",
        "**p**: Giá trị p-value liên quan đến mô hình hồi quy.\n",
        "\n",
        "**std_err**: Sai số chuẩn của hệ số góc."
      ],
      "metadata": {
        "id": "el_yRZPM6ZyE"
      }
    },
    {
      "cell_type": "markdown",
      "source": [
        "Tạo một hàm sử dụng các giá trị **slope** và **intercept** để trả về một giá trị mới. Giá trị mới này biểu thị vị trí trên trục y, giá trị x tương ứng sẽ được đặt:"
      ],
      "metadata": {
        "id": "7PK5Z0k38AW8"
      }
    },
    {
      "cell_type": "code",
      "source": [
        "def myfunct(x):\n",
        "    return slope*x + intercept"
      ],
      "metadata": {
        "id": "I6Kk3Tw-8DbU"
      },
      "execution_count": null,
      "outputs": []
    },
    {
      "cell_type": "code",
      "source": [],
      "metadata": {
        "id": "Yg8ShnWY8fG8"
      },
      "execution_count": null,
      "outputs": []
    },
    {
      "cell_type": "markdown",
      "source": [
        "Chạy từng giá trị của mảng x thông qua hàm. Điều này sẽ dẫn đến một mảng mới với các giá trị mới cho trục y:"
      ],
      "metadata": {
        "id": "A2YxGBCb8Kll"
      }
    },
    {
      "cell_type": "code",
      "source": [
        "mymodel = list(map(myfunc, x))"
      ],
      "metadata": {
        "id": "6Kn9cjHS8LYk"
      },
      "execution_count": null,
      "outputs": []
    },
    {
      "cell_type": "markdown",
      "source": [
        "Vẽ biểu đồ phân tán ban đầu:\n",
        "\n",
        "**plt.scatter**(x, y)\n",
        "\n",
        "Vẽ đường hồi quy tuyến tính:\n",
        "\n",
        "**plt.plot**(x, mymodel)"
      ],
      "metadata": {
        "id": "13vyHcUr8PUU"
      }
    },
    {
      "cell_type": "markdown",
      "source": [
        "**b. Giá trị R cho mối quan hệ**"
      ],
      "metadata": {
        "id": "jKGbLPQY832L"
      }
    },
    {
      "cell_type": "markdown",
      "source": [
        "- Điều quan trọng là phải biết mối quan hệ giữa các giá trị của trục x và các giá trị của trục y là như thế nào, nếu không có mối quan hệ nào thì hồi quy tuyến tính không thể được sử dụng để dự đoán bất cứ điều gì.\n",
        "\n",
        "- Mối quan hệ này gọi là hệ số tương quan - được gọi là r.\n",
        "\n",
        "- Giá rtrị nằm trong khoảng từ -1 đến 1, trong đó 0 có nghĩa là không có mối quan hệ nào và 1 (và -1) có nghĩa là 100% có liên quan.\n",
        "\n",
        "- Python và mô-đun Scipy sẽ tính toán giá trị này cho bạn, tất cả những gì bạn phải làm là cung cấp cho nó các giá trị x và y."
      ],
      "metadata": {
        "id": "xDEXaHKF8-gM"
      }
    },
    {
      "cell_type": "code",
      "source": [
        "from scipy import stats\n",
        "\n",
        "x = [5,7,8,7,2,17,2,9,4,11,12,9,6]\n",
        "y = [99,86,87,88,111,86,103,87,94,78,77,85,86]\n",
        "\n",
        "slope, intercept, r, p, std_err = stats.linregress(x, y)\n",
        "\n",
        "print(r)"
      ],
      "metadata": {
        "colab": {
          "base_uri": "https://localhost:8080/"
        },
        "id": "4J3igy1e-f6T",
        "outputId": "080a131e-bbb2-48aa-fb4c-bc48fa4b3689"
      },
      "execution_count": null,
      "outputs": [
        {
          "output_type": "stream",
          "name": "stdout",
          "text": [
            "-0.758591524376155\n"
          ]
        }
      ]
    },
    {
      "cell_type": "markdown",
      "source": [
        "**Lưu ý**: Kết quả -0,76 cho thấy có một mối quan hệ, không hoàn hảo, nhưng nó chỉ ra rằng chúng ta có thể sử dụng hồi quy tuyến tính trong các dự đoán trong tương lai"
      ],
      "metadata": {
        "id": "RRZ3bijG-lf8"
      }
    },
    {
      "cell_type": "markdown",
      "source": [
        "**c. Dự đoán giá trị trong tương lai**\n",
        "\n",
        "- Bây giờ chúng ta có thể sử dụng thông tin đã thu thập được để dự đoán các giá trị trong tương lai.\n",
        "\n",
        "- Ví dụ: Chúng ta hãy thử dự đoán tốc độ của một chiếc ô tô 10 năm.\n",
        "\n",
        "- Để làm như vậy, chúng ta cần hàm myfunc() từ ví dụ trên:"
      ],
      "metadata": {
        "id": "gJB9I2O6-smL"
      }
    },
    {
      "cell_type": "code",
      "source": [
        "def myfunc(x):\n",
        "  return slope * x + intercept"
      ],
      "metadata": {
        "id": "NJK5Awd3_CAR"
      },
      "execution_count": null,
      "outputs": []
    },
    {
      "cell_type": "markdown",
      "source": [
        "**Ví dụ**\n",
        "Dự đoán tốc độ của một chiếc ô tô 10 năm:"
      ],
      "metadata": {
        "id": "h3k0KIbN_Nuz"
      }
    },
    {
      "cell_type": "code",
      "source": [
        "from scipy import stats\n",
        "\n",
        "x = [5,7,8,7,2,17,2,9,4,11,12,9,6]\n",
        "y = [99,86,87,88,111,86,103,87,94,78,77,85,86]\n",
        "\n",
        "slope, intercept, r, p, std_err = stats.linregress(x, y)\n",
        "\n",
        "def myfunc(x):\n",
        "  return slope * x + intercept\n",
        "\n",
        "speed = myfunc(10)\n",
        "\n",
        "print(speed)"
      ],
      "metadata": {
        "colab": {
          "base_uri": "https://localhost:8080/"
        },
        "id": "WDCk5bGL_Oq6",
        "outputId": "14fed73d-b4ec-4470-de80-b7464e51c9dc"
      },
      "execution_count": null,
      "outputs": [
        {
          "output_type": "stream",
          "name": "stdout",
          "text": [
            "85.59308314937454\n"
          ]
        }
      ]
    }
  ]
}