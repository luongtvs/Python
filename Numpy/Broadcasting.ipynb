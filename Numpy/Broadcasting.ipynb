{
  "nbformat": 4,
  "nbformat_minor": 0,
  "metadata": {
    "colab": {
      "provenance": [],
      "gpuType": "T4",
      "authorship_tag": "ABX9TyO2tmiX4wGC9R0dUz0tDDws",
      "include_colab_link": true
    },
    "kernelspec": {
      "name": "python3",
      "display_name": "Python 3"
    },
    "language_info": {
      "name": "python"
    },
    "accelerator": "GPU"
  },
  "cells": [
    {
      "cell_type": "markdown",
      "metadata": {
        "id": "view-in-github",
        "colab_type": "text"
      },
      "source": [
        "<a href=\"https://colab.research.google.com/github/luongtvs/Python/blob/main/Numpy/Broadcasting.ipynb\" target=\"_parent\"><img src=\"https://colab.research.google.com/assets/colab-badge.svg\" alt=\"Open In Colab\"/></a>"
      ]
    },
    {
      "cell_type": "markdown",
      "source": [
        "Boardcasting chúng ta có thể dịch là lan truyền, cách mà chúng ta thay đổi đồng loạt giá trị nhiều phần tử của mảng.\n",
        "\n",
        "Cụ thể hơn nữa Numpy cho phép thực hiện tính toán giữa các mảng với số và các mảng khác chiều với nhau."
      ],
      "metadata": {
        "id": "6nxOxhnJsj8C"
      }
    },
    {
      "cell_type": "code",
      "source": [
        "import numpy as np\n",
        "\n",
        "#Phần 1. Lan truyền mảng với 1 số (Cộng mảng với 1 số)\n",
        "A = np.array([1,2,3,4])\n",
        "A = A + 3\n",
        "print(A) #[4 5 6 7]\n",
        "#Ta thấy 3 đã cộng với tất cả phần tử của A, tương đương với numpy biến 3 thành mảng 1 chiều [3,3,3,3] để thực hiện phép cộng với A\n",
        "#Tương tự với các phép trừ, phép nhân\n",
        "#Mảng 2 chiều cũng dùng tương tự.\n",
        "B = np.ones((10, 10))\n",
        "print(B)\n",
        "print('------Ket qua')\n",
        "print(B*2)\n",
        "\n",
        "#Phần 2. Phép cộng mảng khác chiều\n",
        "C = np.array([[1, 2, 3], [3, 5, 2]])\n",
        "D = np.array([1, 2, 3])\n",
        "print(C + D)\n",
        "\n",
        "\n"
      ],
      "metadata": {
        "colab": {
          "base_uri": "https://localhost:8080/"
        },
        "id": "0RCPlLCDsmzw",
        "outputId": "5b548b2a-be4a-49c7-e8c7-1b8c587861a9"
      },
      "execution_count": 6,
      "outputs": [
        {
          "output_type": "stream",
          "name": "stdout",
          "text": [
            "[4 5 6 7]\n",
            "[[1. 1. 1. 1. 1. 1. 1. 1. 1. 1.]\n",
            " [1. 1. 1. 1. 1. 1. 1. 1. 1. 1.]\n",
            " [1. 1. 1. 1. 1. 1. 1. 1. 1. 1.]\n",
            " [1. 1. 1. 1. 1. 1. 1. 1. 1. 1.]\n",
            " [1. 1. 1. 1. 1. 1. 1. 1. 1. 1.]\n",
            " [1. 1. 1. 1. 1. 1. 1. 1. 1. 1.]\n",
            " [1. 1. 1. 1. 1. 1. 1. 1. 1. 1.]\n",
            " [1. 1. 1. 1. 1. 1. 1. 1. 1. 1.]\n",
            " [1. 1. 1. 1. 1. 1. 1. 1. 1. 1.]\n",
            " [1. 1. 1. 1. 1. 1. 1. 1. 1. 1.]]\n",
            "------Ket qua\n",
            "[[2. 2. 2. 2. 2. 2. 2. 2. 2. 2.]\n",
            " [2. 2. 2. 2. 2. 2. 2. 2. 2. 2.]\n",
            " [2. 2. 2. 2. 2. 2. 2. 2. 2. 2.]\n",
            " [2. 2. 2. 2. 2. 2. 2. 2. 2. 2.]\n",
            " [2. 2. 2. 2. 2. 2. 2. 2. 2. 2.]\n",
            " [2. 2. 2. 2. 2. 2. 2. 2. 2. 2.]\n",
            " [2. 2. 2. 2. 2. 2. 2. 2. 2. 2.]\n",
            " [2. 2. 2. 2. 2. 2. 2. 2. 2. 2.]\n",
            " [2. 2. 2. 2. 2. 2. 2. 2. 2. 2.]\n",
            " [2. 2. 2. 2. 2. 2. 2. 2. 2. 2.]]\n",
            "[[2 4 6]\n",
            " [4 7 5]]\n"
          ]
        }
      ]
    }
  ]
}