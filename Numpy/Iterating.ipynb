{
  "nbformat": 4,
  "nbformat_minor": 0,
  "metadata": {
    "colab": {
      "provenance": [],
      "gpuType": "T4",
      "toc_visible": true,
      "authorship_tag": "ABX9TyNZwxdO0HbS01bIJboZ509C",
      "include_colab_link": true
    },
    "kernelspec": {
      "name": "python3",
      "display_name": "Python 3"
    },
    "language_info": {
      "name": "python"
    },
    "accelerator": "GPU"
  },
  "cells": [
    {
      "cell_type": "markdown",
      "metadata": {
        "id": "view-in-github",
        "colab_type": "text"
      },
      "source": [
        "<a href=\"https://colab.research.google.com/github/luongtvs/Python/blob/main/Numpy/Iterating.ipynb\" target=\"_parent\"><img src=\"https://colab.research.google.com/assets/colab-badge.svg\" alt=\"Open In Colab\"/></a>"
      ]
    },
    {
      "cell_type": "markdown",
      "source": [
        "Phép lặp (Iterating)"
      ],
      "metadata": {
        "id": "XO046wZY5Z01"
      }
    },
    {
      "cell_type": "markdown",
      "source": [
        "1. Lặp các phần tử mảng 1 chiều"
      ],
      "metadata": {
        "id": "k8ucxHeV5hbD"
      }
    },
    {
      "cell_type": "code",
      "source": [
        "import numpy as np\n",
        "\n",
        "numA = np.arange(10)\n",
        "for item in np.nditer(numA):\n",
        "    print(item)\n"
      ],
      "metadata": {
        "colab": {
          "base_uri": "https://localhost:8080/"
        },
        "id": "vlJ6y8V65od8",
        "outputId": "d437a029-4b21-473d-9572-9eb56add2a3f"
      },
      "execution_count": 2,
      "outputs": [
        {
          "output_type": "stream",
          "name": "stdout",
          "text": [
            "0\n",
            "1\n",
            "2\n",
            "3\n",
            "4\n",
            "5\n",
            "6\n",
            "7\n",
            "8\n",
            "9\n"
          ]
        }
      ]
    },
    {
      "cell_type": "code",
      "source": [
        "import numpy as np\n",
        "A = np.array([1, 5, 2, 6, 7, 1, 4, 7, 9, 8])\n",
        "\n",
        "for i in A:\n",
        "    print(i)"
      ],
      "metadata": {
        "colab": {
          "base_uri": "https://localhost:8080/"
        },
        "id": "at5QGnow6rfd",
        "outputId": "da292bcb-407f-473f-b3bf-65fd4348a0f8"
      },
      "execution_count": 4,
      "outputs": [
        {
          "output_type": "stream",
          "name": "stdout",
          "text": [
            "1\n",
            "5\n",
            "2\n",
            "6\n",
            "7\n",
            "1\n",
            "4\n",
            "7\n",
            "9\n",
            "8\n"
          ]
        }
      ]
    },
    {
      "cell_type": "markdown",
      "source": [
        "2. Lặp phần tử mảng 2 chiều"
      ],
      "metadata": {
        "id": "taTFBXOEZUi1"
      }
    },
    {
      "cell_type": "code",
      "source": [
        "import numpy as np\n",
        "A  = np.random.randint(10, size=(3,4))\n",
        "\n",
        "print(A)\n",
        "for item in np.nditer(A):\n",
        "    print(item)"
      ],
      "metadata": {
        "colab": {
          "base_uri": "https://localhost:8080/"
        },
        "id": "YQ6eMKQtZiug",
        "outputId": "2fbbeccb-252d-4397-8da6-90579ef1ac74"
      },
      "execution_count": 13,
      "outputs": [
        {
          "output_type": "stream",
          "name": "stdout",
          "text": [
            "[[8 0 1 3]\n",
            " [6 9 1 7]\n",
            " [5 5 4 5]]\n",
            "8\n",
            "0\n",
            "1\n",
            "3\n",
            "6\n",
            "9\n",
            "1\n",
            "7\n",
            "5\n",
            "5\n",
            "4\n",
            "5\n"
          ]
        }
      ]
    }
  ]
}