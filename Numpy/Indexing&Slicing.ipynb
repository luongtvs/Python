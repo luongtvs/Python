{
  "nbformat": 4,
  "nbformat_minor": 0,
  "metadata": {
    "colab": {
      "provenance": [],
      "authorship_tag": "ABX9TyOiO4KUspQWZuNrvEB/1qMe",
      "include_colab_link": true
    },
    "kernelspec": {
      "name": "python3",
      "display_name": "Python 3"
    },
    "language_info": {
      "name": "python"
    }
  },
  "cells": [
    {
      "cell_type": "markdown",
      "metadata": {
        "id": "view-in-github",
        "colab_type": "text"
      },
      "source": [
        "<a href=\"https://colab.research.google.com/github/luongtvs/Python/blob/main/Numpy/Indexing%26Slicing.ipynb\" target=\"_parent\"><img src=\"https://colab.research.google.com/assets/colab-badge.svg\" alt=\"Open In Colab\"/></a>"
      ]
    },
    {
      "cell_type": "code",
      "execution_count": 28,
      "metadata": {
        "colab": {
          "base_uri": "https://localhost:8080/"
        },
        "id": "y49X1tbgyZA_",
        "outputId": "e34b5a58-639b-44fd-8055-0f10afc11d63"
      },
      "outputs": [
        {
          "output_type": "stream",
          "name": "stdout",
          "text": [
            "[[1 2 3 4]\n",
            " [8 9 4 5]\n",
            " [2 9 7 8]\n",
            " [9 6 4 9]]\n",
            "A. Lấy hàng đầu tiên của ma trận\n",
            "[1 2 3 4]\n",
            "A. Lấy hàng cuối cùng của ma trận\n",
            "[9 6 4 9]\n",
            "A. Lấy cột đầu tiên của ma trận\n",
            "[1 8 2 9]\n",
            "B. Lấy cột cuối cùng của ma trận\n",
            "[4 5 8 9]\n",
            "C. Lấy cột thứ 1 của ma trận\n",
            "[2 9 9 6]\n",
            "D. Lấy mảng trong ma trận\n",
            "[[9 4]\n",
            " [9 7]]\n",
            "5\n",
            "5\n"
          ]
        }
      ],
      "source": [
        "import numpy as np\n",
        "#Index và Slicing tương tự như List\n",
        "\n",
        "A = np.array([\n",
        "    [1, 2, 3, 4],\n",
        "    [8, 9, 4, 5],\n",
        "    [2, 9, 7, 8],\n",
        "    [9, 6, 4, 9],\n",
        "])\n",
        "\n",
        "print(A)\n",
        "\n",
        "# Phần 1: Truy cập hàng\n",
        "\n",
        "# A. Truy cập hàng đầu tiên của ma trận'\n",
        "print('A. Lấy hàng đầu tiên của ma trận')\n",
        "print(A[0])\n",
        "\n",
        "# B. Truy cập hàng cuối cùng của ma trận'\n",
        "print('A. Lấy hàng cuối cùng của ma trận')\n",
        "print(A[-1])\n",
        "\n",
        "\n",
        "# Phần 2: Truy cập cột\n",
        "# A. Truy cập cột đầu tiên của ma trận'\n",
        "print('A. Lấy cột đầu tiên của ma trận')\n",
        "print(A[:,0])\n",
        "\n",
        "# B. Truy cập cột cuối cùng của ma trận'\n",
        "print('B. Lấy cột cuối cùng của ma trận')\n",
        "print(A[:, -1])\n",
        "\n",
        "# C. Truy cập cột thứ 1 của ma trận: '\n",
        "print('C. Lấy cột thứ 1 của ma trận')\n",
        "print(A[:, 1])\n",
        "\n",
        "# D. Truy cập mảng trong ma trận\n",
        "# A = [[a00, a01, a02, a03],\n",
        "#     [a10, a11, a12, a13],\n",
        "#     [a20, a21, a22, a23],\n",
        "#     [a30, a31, a32, a33]]\n",
        "# Trong trường hợp của  A[1:3, 2:4] là cách để lát cắt một mảng hai chiều (A) để lấy một phạm vi con của nó.\n",
        "# Trong lát cắt này, [1:3] Thì A[1:3] sẽ trả về một ma trận mới chứa các hàng từ hàng số 1 (bao gồm) đến hàng số 3 (không bao gồm hoặc là hàng 3 - 1) trong chiều đầu tiên\n",
        "# và A[2:4] sẽ trả về một ma trận thứ 2 chứa các cột từ hàng số 12 (bao gồm) đến cột  số 4 (không bao gồm hoặc là hàng 4 - 1) trong chiều thứ 2\n",
        "# giao 2 chiều này chính là kết quả\n",
        "# Chú ý: Số thứ tự trong mảng được đánh từ 0\n",
        "#Kết quả:\n",
        "# [\n",
        "#     [a12, a13],\n",
        "#     [a22, a23]\n",
        "# ]\n",
        "\n",
        "print('D. Lấy mảng trong ma trận')\n",
        "# print(np.shape(A))\n",
        "print(A[1:3, 1:3])\n",
        "#Phần 3: Truy cập phần tử cột\n",
        "\n",
        "# Truy cập phần tử hàng 1 cột 3\n",
        "print(A[1, 3])\n",
        "print(A[1][3])\n"
      ]
    }
  ]
}