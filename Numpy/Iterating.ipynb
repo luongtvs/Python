{
  "nbformat": 4,
  "nbformat_minor": 0,
  "metadata": {
    "colab": {
      "provenance": [],
      "gpuType": "T4",
      "toc_visible": true,
      "authorship_tag": "ABX9TyN33zBXyvmfsSVFmG1XKk/d",
      "include_colab_link": true
    },
    "kernelspec": {
      "name": "python3",
      "display_name": "Python 3"
    },
    "language_info": {
      "name": "python"
    },
    "accelerator": "GPU"
  },
  "cells": [
    {
      "cell_type": "markdown",
      "metadata": {
        "id": "view-in-github",
        "colab_type": "text"
      },
      "source": [
        "<a href=\"https://colab.research.google.com/github/luongtvs/Python/blob/main/Numpy/Iterating.ipynb\" target=\"_parent\"><img src=\"https://colab.research.google.com/assets/colab-badge.svg\" alt=\"Open In Colab\"/></a>"
      ]
    },
    {
      "cell_type": "markdown",
      "source": [
        "Phép lặp (Iterating)"
      ],
      "metadata": {
        "id": "XO046wZY5Z01"
      }
    },
    {
      "cell_type": "markdown",
      "source": [
        "**1. Lặp các phần tử mảng 1 chiều**"
      ],
      "metadata": {
        "id": "k8ucxHeV5hbD"
      }
    },
    {
      "cell_type": "code",
      "source": [
        "import numpy as np\n",
        "\n",
        "numA = np.arange(10)\n",
        "for item in np.nditer(numA):\n",
        "    print(item)\n"
      ],
      "metadata": {
        "colab": {
          "base_uri": "https://localhost:8080/"
        },
        "id": "vlJ6y8V65od8",
        "outputId": "d437a029-4b21-473d-9572-9eb56add2a3f"
      },
      "execution_count": 2,
      "outputs": [
        {
          "output_type": "stream",
          "name": "stdout",
          "text": [
            "0\n",
            "1\n",
            "2\n",
            "3\n",
            "4\n",
            "5\n",
            "6\n",
            "7\n",
            "8\n",
            "9\n"
          ]
        }
      ]
    },
    {
      "cell_type": "code",
      "source": [
        "import numpy as np\n",
        "A = np.array([1, 5, 2, 6, 7, 1, 4, 7, 9, 8])\n",
        "\n",
        "for i in A:\n",
        "    print(i)"
      ],
      "metadata": {
        "colab": {
          "base_uri": "https://localhost:8080/"
        },
        "id": "at5QGnow6rfd",
        "outputId": "da292bcb-407f-473f-b3bf-65fd4348a0f8"
      },
      "execution_count": 4,
      "outputs": [
        {
          "output_type": "stream",
          "name": "stdout",
          "text": [
            "1\n",
            "5\n",
            "2\n",
            "6\n",
            "7\n",
            "1\n",
            "4\n",
            "7\n",
            "9\n",
            "8\n"
          ]
        }
      ]
    },
    {
      "cell_type": "markdown",
      "source": [
        "**2. Lặp phần tử mảng 2 chiều**"
      ],
      "metadata": {
        "id": "taTFBXOEZUi1"
      }
    },
    {
      "cell_type": "code",
      "source": [
        "import numpy as np\n",
        "A  = np.random.randint(10, size=(3,4))\n",
        "\n",
        "print(A)\n",
        "for item in np.nditer(A):\n",
        "    print(item)"
      ],
      "metadata": {
        "colab": {
          "base_uri": "https://localhost:8080/"
        },
        "id": "YQ6eMKQtZiug",
        "outputId": "2fbbeccb-252d-4397-8da6-90579ef1ac74"
      },
      "execution_count": 13,
      "outputs": [
        {
          "output_type": "stream",
          "name": "stdout",
          "text": [
            "[[8 0 1 3]\n",
            " [6 9 1 7]\n",
            " [5 5 4 5]]\n",
            "8\n",
            "0\n",
            "1\n",
            "3\n",
            "6\n",
            "9\n",
            "1\n",
            "7\n",
            "5\n",
            "5\n",
            "4\n",
            "5\n"
          ]
        }
      ]
    },
    {
      "cell_type": "markdown",
      "source": [
        "**3. Lặp mảng 3 chiều**"
      ],
      "metadata": {
        "id": "84mCNNWF3Byk"
      }
    },
    {
      "cell_type": "code",
      "source": [
        "import numpy as np\n",
        "\n",
        "A =  np.random.randint(10, size = (2,3,2))\n",
        "print(A)\n",
        "\n",
        "for item in np.nditer(A):\n",
        "    print(item)"
      ],
      "metadata": {
        "colab": {
          "base_uri": "https://localhost:8080/"
        },
        "id": "PNZ1AsJj3EXU",
        "outputId": "7d14ccd0-745a-4e7b-afe3-2b040f7a64e2"
      },
      "execution_count": 17,
      "outputs": [
        {
          "output_type": "stream",
          "name": "stdout",
          "text": [
            "[[[0 8]\n",
            "  [5 9]\n",
            "  [6 0]]\n",
            "\n",
            " [[6 1]\n",
            "  [5 2]\n",
            "  [7 2]]]\n",
            "0\n",
            "8\n",
            "5\n",
            "9\n",
            "6\n",
            "0\n",
            "6\n",
            "1\n",
            "5\n",
            "2\n",
            "7\n",
            "2\n"
          ]
        }
      ]
    },
    {
      "cell_type": "markdown",
      "source": [
        "**4. Thay đổi giá trị trong quá trình lặp**\n",
        "- Chú ý: Thêm cờ **op_flags = ['readwrite']** để bật chế độ có thể thay đổi các phần tử trong mảng\n",
        "\n"
      ],
      "metadata": {
        "id": "N1OjGVky3jFo"
      }
    },
    {
      "cell_type": "code",
      "source": [
        "import numpy as np\n",
        "\n",
        "A = np.random.randint(10, size=(5))\n",
        "print(A)\n",
        "\n",
        "# Chú ý: Thêm cờ op_flags = ['readwrite'] để bật chế độ có thể thay đổi các phần tử trong mảng\n",
        "for item in np.nditer(A, op_flags = ['readwrite']):\n",
        "    item[...] = item * 2\n",
        "print(A)"
      ],
      "metadata": {
        "colab": {
          "base_uri": "https://localhost:8080/"
        },
        "id": "ywKZ4UKc4EUC",
        "outputId": "9b9675f9-8bb9-4baa-fbbd-cce90c472b17"
      },
      "execution_count": 27,
      "outputs": [
        {
          "output_type": "stream",
          "name": "stdout",
          "text": [
            "[1 1 5 1 9]\n",
            "[ 2  2 10  2 18]\n"
          ]
        }
      ]
    },
    {
      "cell_type": "markdown",
      "source": [
        "**5. Lặp qua dòng**"
      ],
      "metadata": {
        "id": "84k5Hni95mlr"
      }
    },
    {
      "cell_type": "code",
      "source": [
        "import numpy as np\n",
        "\n",
        "A = np.random.randint(10, size = (2,3))\n",
        "print(A)\n",
        "\n",
        "print('----------------------')\n",
        "for item in np.nditer(A,  flags = ['external_loop'], order = 'F'):\n",
        "    print(item)\n",
        "\n",
        "print('----------------------')\n",
        "for item in np.nditer(A,  flags = ['external_loop'], order = 'C'):\n",
        "  print(item)"
      ],
      "metadata": {
        "colab": {
          "base_uri": "https://localhost:8080/"
        },
        "id": "fZtnDEZ65rM_",
        "outputId": "1e153554-101d-4791-8221-fdee4237469e"
      },
      "execution_count": 34,
      "outputs": [
        {
          "output_type": "stream",
          "name": "stdout",
          "text": [
            "[[5 4 6]\n",
            " [6 6 9]]\n",
            "----------------------\n",
            "[5 6]\n",
            "[4 6]\n",
            "[6 9]\n",
            "----------------------\n",
            "[5 4 6 6 6 9]\n"
          ]
        }
      ]
    }
  ]
}