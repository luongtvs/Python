{
  "nbformat": 4,
  "nbformat_minor": 0,
  "metadata": {
    "colab": {
      "provenance": [],
      "gpuType": "T4",
      "authorship_tag": "ABX9TyMF/mkSFM9FdIDskSKlN8mc",
      "include_colab_link": true
    },
    "kernelspec": {
      "name": "python3",
      "display_name": "Python 3"
    },
    "language_info": {
      "name": "python"
    },
    "accelerator": "GPU"
  },
  "cells": [
    {
      "cell_type": "markdown",
      "metadata": {
        "id": "view-in-github",
        "colab_type": "text"
      },
      "source": [
        "<a href=\"https://colab.research.google.com/github/luongtvs/Python/blob/main/LinearRegression/LinearRegression.ipynb\" target=\"_parent\"><img src=\"https://colab.research.google.com/assets/colab-badge.svg\" alt=\"Open In Colab\"/></a>"
      ]
    },
    {
      "cell_type": "markdown",
      "source": [
        "**I. Scikit-learn thư viện cần thiết cho Machine Learning**"
      ],
      "metadata": {
        "id": "6FyFFNcXCkrt"
      }
    },
    {
      "cell_type": "markdown",
      "source": [
        "Scikit-learn có lẽ là thư viện phổ biến nhất trong lĩnh vực machine learning, với thư viện này công việc của chúng ta chỉ là cung cấp dữ liệu và mọi thuật toán machine learning đã được xây dựng sẵn trong bộ thư viện này sẽ mang về cho bạn kết quả như mong muốn."
      ],
      "metadata": {
        "id": "yEC7F0FJCqzt"
      }
    },
    {
      "cell_type": "markdown",
      "source": [
        "Để sử dụng thuật toán Linear Regression đã được cài đặt sẵn trong Scikit-learn, chúng ta thực hiện import thư viện này vào chương trình:"
      ],
      "metadata": {
        "id": "yzh021snCx3E"
      }
    },
    {
      "cell_type": "code",
      "execution_count": null,
      "metadata": {
        "id": "yqhKWUDRBvWv"
      },
      "outputs": [],
      "source": [
        "from sklearn.linear_model import LinearRegression"
      ]
    },
    {
      "cell_type": "markdown",
      "source": [
        "Bộ thư viện Scikit-learn rất là đồ sộ, do chúng ta đã tìm hiểu về thuật toán Linear Regression nên chúng ta chỉ import phần liên quan đến thuật toán này mà thôi. Để thực hiện thuật toán Hồi quy tuyến tính trên các dữ liệu X, y đã được bóc tách và mô phỏng trong bài trước, chúng ta thực hiện đoạn code trong Python:"
      ],
      "metadata": {
        "id": "haf2JA20C2ob"
      }
    },
    {
      "cell_type": "code",
      "source": [],
      "metadata": {
        "id": "-oD9ivISC35N"
      },
      "execution_count": null,
      "outputs": []
    }
  ]
}