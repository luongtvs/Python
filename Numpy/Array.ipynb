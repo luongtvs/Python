{
  "nbformat": 4,
  "nbformat_minor": 0,
  "metadata": {
    "colab": {
      "provenance": [],
      "gpuType": "T4",
      "authorship_tag": "ABX9TyNhZzaZu3509ybIlkz6p71b",
      "include_colab_link": true
    },
    "kernelspec": {
      "name": "python3",
      "display_name": "Python 3"
    },
    "language_info": {
      "name": "python"
    },
    "accelerator": "GPU"
  },
  "cells": [
    {
      "cell_type": "markdown",
      "metadata": {
        "id": "view-in-github",
        "colab_type": "text"
      },
      "source": [
        "<a href=\"https://colab.research.google.com/github/luongtvs/Python/blob/main/Numpy/Array.ipynb\" target=\"_parent\"><img src=\"https://colab.research.google.com/assets/colab-badge.svg\" alt=\"Open In Colab\"/></a>"
      ]
    },
    {
      "cell_type": "code",
      "source": [
        "import numpy as np\n",
        "print('-----------------1D Array')\n",
        "# 1D Array\n",
        "A = np.array([1,2,3,4])\n",
        "# print(A.shape)\n",
        "print(A)\n",
        "\n",
        "print('-----------------2D Array')\n",
        "# 2D Array\n",
        "B = np.array([[1, 2], [3, 5], [1, 7]])\n",
        "# print(B.shape)\n",
        "print(B)\n",
        "\n",
        "print('-----------------3D Array')\n",
        "# 3D Array\n",
        "C = np.array([[[1, 5, 2], [8, 9, 5]], [[1, 7, 1], [2, 9, 4]]])\n",
        "# print(C.shape)\n",
        "print(C)\n"
      ],
      "metadata": {
        "colab": {
          "base_uri": "https://localhost:8080/"
        },
        "id": "saOsS3UhP2-A",
        "outputId": "037d9280-858b-4c5d-f0ff-43bc104d968c"
      },
      "execution_count": 16,
      "outputs": [
        {
          "output_type": "stream",
          "name": "stdout",
          "text": [
            "-----------------1D Array\n",
            "[1 2 3 4]\n",
            "-----------------2D Array\n",
            "[[1 2]\n",
            " [3 5]\n",
            " [1 7]]\n",
            "-----------------3D Array\n",
            "(2, 2, 3)\n",
            "[[[1 5 2]\n",
            "  [8 9 5]]\n",
            "\n",
            " [[1 7 1]\n",
            "  [2 9 4]]]\n"
          ]
        }
      ]
    }
  ]
}